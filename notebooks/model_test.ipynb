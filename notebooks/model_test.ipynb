{
 "cells": [
  {
   "cell_type": "code",
   "execution_count": 1,
   "metadata": {},
   "outputs": [],
   "source": [
    "import pandas as pd"
   ]
  },
  {
   "cell_type": "code",
   "execution_count": 2,
   "metadata": {},
   "outputs": [],
   "source": [
    "x = pd.read_csv('/Users/hubert/Drive/DPhil/Projects/2022-08a-Semantic_Change/semantic-change-hansard/data/01_raw/Corp_HouseOfCommons_V2.csv')"
   ]
  },
  {
   "cell_type": "code",
   "execution_count": 3,
   "metadata": {},
   "outputs": [
    {
     "data": {
      "text/html": [
       "<div>\n",
       "<style scoped>\n",
       "    .dataframe tbody tr th:only-of-type {\n",
       "        vertical-align: middle;\n",
       "    }\n",
       "\n",
       "    .dataframe tbody tr th {\n",
       "        vertical-align: top;\n",
       "    }\n",
       "\n",
       "    .dataframe thead th {\n",
       "        text-align: right;\n",
       "    }\n",
       "</style>\n",
       "<table border=\"1\" class=\"dataframe\">\n",
       "  <thead>\n",
       "    <tr style=\"text-align: right;\">\n",
       "      <th></th>\n",
       "      <th>date</th>\n",
       "      <th>agenda</th>\n",
       "      <th>speechnumber</th>\n",
       "      <th>speaker</th>\n",
       "      <th>party</th>\n",
       "      <th>party.facts.id</th>\n",
       "      <th>chair</th>\n",
       "      <th>terms</th>\n",
       "      <th>text</th>\n",
       "      <th>parliament</th>\n",
       "      <th>iso3country</th>\n",
       "    </tr>\n",
       "  </thead>\n",
       "  <tbody>\n",
       "    <tr>\n",
       "      <th>0</th>\n",
       "      <td>1988-11-22</td>\n",
       "      <td>Queen's Speech</td>\n",
       "      <td>1</td>\n",
       "      <td>CHAIR</td>\n",
       "      <td>NaN</td>\n",
       "      <td>NaN</td>\n",
       "      <td>True</td>\n",
       "      <td>74</td>\n",
       "      <td>I have to acquaint the House that this House h...</td>\n",
       "      <td>UK-HouseOfCommons</td>\n",
       "      <td>GBR</td>\n",
       "    </tr>\n",
       "    <tr>\n",
       "      <th>1</th>\n",
       "      <td>1988-11-22</td>\n",
       "      <td>First Day [Debate On The Address]</td>\n",
       "      <td>2</td>\n",
       "      <td>CHAIR</td>\n",
       "      <td>NaN</td>\n",
       "      <td>NaN</td>\n",
       "      <td>True</td>\n",
       "      <td>55</td>\n",
       "      <td>It may be for the convenience of the House if ...</td>\n",
       "      <td>UK-HouseOfCommons</td>\n",
       "      <td>GBR</td>\n",
       "    </tr>\n",
       "    <tr>\n",
       "      <th>2</th>\n",
       "      <td>1988-11-22</td>\n",
       "      <td>First Day [Debate On The Address]</td>\n",
       "      <td>3</td>\n",
       "      <td>Giles Shaw</td>\n",
       "      <td>Con</td>\n",
       "      <td>1567.0</td>\n",
       "      <td>False</td>\n",
       "      <td>2511</td>\n",
       "      <td>I beg to move,. That an humble Address be pres...</td>\n",
       "      <td>UK-HouseOfCommons</td>\n",
       "      <td>GBR</td>\n",
       "    </tr>\n",
       "    <tr>\n",
       "      <th>3</th>\n",
       "      <td>1988-11-22</td>\n",
       "      <td>First Day [Debate On The Address]</td>\n",
       "      <td>4</td>\n",
       "      <td>John Maples</td>\n",
       "      <td>Con</td>\n",
       "      <td>1567.0</td>\n",
       "      <td>False</td>\n",
       "      <td>1470</td>\n",
       "      <td>I am delighted to second the motion. When I ha...</td>\n",
       "      <td>UK-HouseOfCommons</td>\n",
       "      <td>GBR</td>\n",
       "    </tr>\n",
       "    <tr>\n",
       "      <th>4</th>\n",
       "      <td>1988-11-22</td>\n",
       "      <td>First Day [Debate On The Address]</td>\n",
       "      <td>5</td>\n",
       "      <td>Neil Kinnock</td>\n",
       "      <td>Lab</td>\n",
       "      <td>1516.0</td>\n",
       "      <td>False</td>\n",
       "      <td>2768</td>\n",
       "      <td>I am sure that I speak for the majority of hon...</td>\n",
       "      <td>UK-HouseOfCommons</td>\n",
       "      <td>GBR</td>\n",
       "    </tr>\n",
       "  </tbody>\n",
       "</table>\n",
       "</div>"
      ],
      "text/plain": [
       "         date                             agenda  speechnumber       speaker  \\\n",
       "0  1988-11-22                     Queen's Speech             1         CHAIR   \n",
       "1  1988-11-22  First Day [Debate On The Address]             2         CHAIR   \n",
       "2  1988-11-22  First Day [Debate On The Address]             3    Giles Shaw   \n",
       "3  1988-11-22  First Day [Debate On The Address]             4   John Maples   \n",
       "4  1988-11-22  First Day [Debate On The Address]             5  Neil Kinnock   \n",
       "\n",
       "  party  party.facts.id  chair  terms  \\\n",
       "0   NaN             NaN   True     74   \n",
       "1   NaN             NaN   True     55   \n",
       "2   Con          1567.0  False   2511   \n",
       "3   Con          1567.0  False   1470   \n",
       "4   Lab          1516.0  False   2768   \n",
       "\n",
       "                                                text         parliament  \\\n",
       "0  I have to acquaint the House that this House h...  UK-HouseOfCommons   \n",
       "1  It may be for the convenience of the House if ...  UK-HouseOfCommons   \n",
       "2  I beg to move,. That an humble Address be pres...  UK-HouseOfCommons   \n",
       "3  I am delighted to second the motion. When I ha...  UK-HouseOfCommons   \n",
       "4  I am sure that I speak for the majority of hon...  UK-HouseOfCommons   \n",
       "\n",
       "  iso3country  \n",
       "0         GBR  \n",
       "1         GBR  \n",
       "2         GBR  \n",
       "3         GBR  \n",
       "4         GBR  "
      ]
     },
     "execution_count": 3,
     "metadata": {},
     "output_type": "execute_result"
    }
   ],
   "source": [
    "x.head()"
   ]
  },
  {
   "cell_type": "code",
   "execution_count": 4,
   "metadata": {},
   "outputs": [],
   "source": [
    "giles_shaw_text = x[x['speaker'] == 'Giles Shaw']['text'].apply(lambda x: x.split('.'))"
   ]
  },
  {
   "cell_type": "code",
   "execution_count": 11,
   "metadata": {},
   "outputs": [],
   "source": [
    "giles_shaw_text_unrolled = [item for sublist in giles_shaw_text.to_list() for item in sublist]"
   ]
  },
  {
   "cell_type": "code",
   "execution_count": 20,
   "metadata": {},
   "outputs": [],
   "source": [
    "import gensim\n",
    "\n",
    "x_model = gensim.models.Word2Vec(\n",
    "    \n",
    ")"
   ]
  },
  {
   "cell_type": "code",
   "execution_count": 21,
   "metadata": {},
   "outputs": [
    {
     "data": {
      "text/plain": [
       "['',\n",
       " ' The hon',\n",
       " ' My hon',\n",
       " ' My right hon',\n",
       " 'Does my right hon',\n",
       " 'Will my right hon',\n",
       " ' As my right hon',\n",
       " ' Hon',\n",
       " ' Member for Chesterfield (Mr',\n",
       " ' and hon']"
      ]
     },
     "execution_count": 21,
     "metadata": {},
     "output_type": "execute_result"
    }
   ],
   "source": [
    "x_model.wv.index_to_key"
   ]
  },
  {
   "cell_type": "code",
   "execution_count": null,
   "metadata": {},
   "outputs": [],
   "source": []
  },
  {
   "cell_type": "code",
   "execution_count": 22,
   "metadata": {},
   "outputs": [],
   "source": [
    "retrofit_prep_df = pd.read_json('../data//02_intermediate/retrofit_prep.json', orient='split')"
   ]
  },
  {
   "cell_type": "code",
   "execution_count": 23,
   "metadata": {},
   "outputs": [
    {
     "data": {
      "text/html": [
       "<div>\n",
       "<style scoped>\n",
       "    .dataframe tbody tr th:only-of-type {\n",
       "        vertical-align: middle;\n",
       "    }\n",
       "\n",
       "    .dataframe tbody tr th {\n",
       "        vertical-align: top;\n",
       "    }\n",
       "\n",
       "    .dataframe thead th {\n",
       "        text-align: right;\n",
       "    }\n",
       "</style>\n",
       "<table border=\"1\" class=\"dataframe\">\n",
       "  <thead>\n",
       "    <tr style=\"text-align: right;\">\n",
       "      <th></th>\n",
       "      <th>df_name</th>\n",
       "      <th>speaker</th>\n",
       "      <th>Lemmas</th>\n",
       "      <th>party</th>\n",
       "      <th>lemmas_delist</th>\n",
       "      <th>LengthLemmas</th>\n",
       "    </tr>\n",
       "  </thead>\n",
       "  <tbody>\n",
       "    <tr>\n",
       "      <th>0</th>\n",
       "      <td>df_t2_Daniel Poulter</td>\n",
       "      <td>Daniel Poulter</td>\n",
       "      <td>[i, welcome, my, right, hon, friend, s, review...</td>\n",
       "      <td>Con</td>\n",
       "      <td>i,welcome,my,right,hon,friend,s,review,of,the,...</td>\n",
       "      <td>257375</td>\n",
       "    </tr>\n",
       "    <tr>\n",
       "      <th>1</th>\n",
       "      <td>df_t1_Kenneth Warren</td>\n",
       "      <td>Kenneth Warren</td>\n",
       "      <td>[i, enter, this, field, of, combat, with, some...</td>\n",
       "      <td>Con</td>\n",
       "      <td>i,enter,this,field,of,combat,with,some,trepida...</td>\n",
       "      <td>25118</td>\n",
       "    </tr>\n",
       "    <tr>\n",
       "      <th>2</th>\n",
       "      <td>df_t2_Clive</td>\n",
       "      <td>Clive</td>\n",
       "      <td>[the, hon, lady, rightly, talks, about, the, n...</td>\n",
       "      <td>None</td>\n",
       "      <td>the,hon,lady,rightly,talks,about,the,need,for,...</td>\n",
       "      <td>52</td>\n",
       "    </tr>\n",
       "    <tr>\n",
       "      <th>3</th>\n",
       "      <td>df_t1_Eric Pickles</td>\n",
       "      <td>Eric Pickles</td>\n",
       "      <td>[i, thank, you, madam, deputy, speaker, for, t...</td>\n",
       "      <td>Con</td>\n",
       "      <td>i,thank,you,madam,deputy,speaker,for,this,oppo...</td>\n",
       "      <td>134049</td>\n",
       "    </tr>\n",
       "    <tr>\n",
       "      <th>4</th>\n",
       "      <td>df_t2_Eric Pickles</td>\n",
       "      <td>Eric Pickles</td>\n",
       "      <td>[i, thank, the, secretary, of, state, for, pro...</td>\n",
       "      <td>Con</td>\n",
       "      <td>i,thank,the,secretary,of,state,for,providing,m...</td>\n",
       "      <td>269811</td>\n",
       "    </tr>\n",
       "  </tbody>\n",
       "</table>\n",
       "</div>"
      ],
      "text/plain": [
       "                df_name         speaker  \\\n",
       "0  df_t2_Daniel Poulter  Daniel Poulter   \n",
       "1  df_t1_Kenneth Warren  Kenneth Warren   \n",
       "2           df_t2_Clive           Clive   \n",
       "3    df_t1_Eric Pickles    Eric Pickles   \n",
       "4    df_t2_Eric Pickles    Eric Pickles   \n",
       "\n",
       "                                              Lemmas party  \\\n",
       "0  [i, welcome, my, right, hon, friend, s, review...   Con   \n",
       "1  [i, enter, this, field, of, combat, with, some...   Con   \n",
       "2  [the, hon, lady, rightly, talks, about, the, n...  None   \n",
       "3  [i, thank, you, madam, deputy, speaker, for, t...   Con   \n",
       "4  [i, thank, the, secretary, of, state, for, pro...   Con   \n",
       "\n",
       "                                       lemmas_delist  LengthLemmas  \n",
       "0  i,welcome,my,right,hon,friend,s,review,of,the,...        257375  \n",
       "1  i,enter,this,field,of,combat,with,some,trepida...         25118  \n",
       "2  the,hon,lady,rightly,talks,about,the,need,for,...            52  \n",
       "3  i,thank,you,madam,deputy,speaker,for,this,oppo...        134049  \n",
       "4  i,thank,the,secretary,of,state,for,providing,m...        269811  "
      ]
     },
     "execution_count": 23,
     "metadata": {},
     "output_type": "execute_result"
    }
   ],
   "source": [
    "retrofit_prep_df.head()"
   ]
  },
  {
   "cell_type": "code",
   "execution_count": 25,
   "metadata": {},
   "outputs": [],
   "source": [
    "test = [retrofit_prep_df['Lemmas'].iloc[0][:10], retrofit_prep_df['Lemmas'].iloc[0][10:20]]"
   ]
  },
  {
   "cell_type": "code",
   "execution_count": 26,
   "metadata": {},
   "outputs": [
    {
     "data": {
      "text/plain": [
       "[['i', 'welcome', 'my', 'right', 'hon', 'friend', 's', 'review', 'of', 'the'],\n",
       " ['workings',\n",
       "  'of',\n",
       "  'the',\n",
       "  'upper',\n",
       "  'house',\n",
       "  'does',\n",
       "  'he',\n",
       "  'agree',\n",
       "  'that',\n",
       "  'perhaps']]"
      ]
     },
     "execution_count": 26,
     "metadata": {},
     "output_type": "execute_result"
    }
   ],
   "source": [
    "test"
   ]
  },
  {
   "cell_type": "code",
   "execution_count": 35,
   "metadata": {},
   "outputs": [],
   "source": [
    "temp_model = gensim.models.Word2Vec(sentences=test,min_count=1)"
   ]
  },
  {
   "cell_type": "code",
   "execution_count": 38,
   "metadata": {},
   "outputs": [],
   "source": [
    "temp_model_delisted = gensim.models.Word2Vec(retrofit_prep_df['Lemmas'].iloc[0],min_count=1)"
   ]
  },
  {
   "cell_type": "code",
   "execution_count": 39,
   "metadata": {},
   "outputs": [
    {
     "data": {
      "text/plain": [
       "['e',\n",
       " 't',\n",
       " 'a',\n",
       " 'i',\n",
       " 'o',\n",
       " 'n',\n",
       " 'r',\n",
       " 's',\n",
       " 'h',\n",
       " 'l',\n",
       " 'd',\n",
       " 'c',\n",
       " 'u',\n",
       " 'm',\n",
       " 'p',\n",
       " 'f',\n",
       " 'g',\n",
       " 'w',\n",
       " 'y',\n",
       " 'b',\n",
       " 'v',\n",
       " 'k',\n",
       " '0',\n",
       " 'x',\n",
       " '1',\n",
       " '2',\n",
       " 'q',\n",
       " 'j',\n",
       " 'â',\n",
       " '5',\n",
       " '3',\n",
       " '4',\n",
       " '9',\n",
       " '8',\n",
       " '6',\n",
       " '7',\n",
       " 'œ',\n",
       " 'z',\n",
       " 'á']"
      ]
     },
     "execution_count": 39,
     "metadata": {},
     "output_type": "execute_result"
    }
   ],
   "source": [
    "temp_model_delisted.wv.index_to_key"
   ]
  },
  {
   "cell_type": "markdown",
   "metadata": {},
   "source": [
    "## check tokenized"
   ]
  },
  {
   "cell_type": "code",
   "execution_count": 40,
   "metadata": {},
   "outputs": [],
   "source": [
    "import pickle\n",
    "with open('/Users/hubert/Drive/DPhil/Projects/2022-08a-Semantic_Change/semantic-change-hansard/data/02_intermediate/Tokenized_uk_en.pkl', 'rb') as f:\n",
    "    tokenized = pickle.load(f)"
   ]
  },
  {
   "cell_type": "code",
   "execution_count": 45,
   "metadata": {},
   "outputs": [],
   "source": [
    "giles_shaw_tokenized = tokenized[tokenized['speaker']=='Giles Shaw']"
   ]
  },
  {
   "cell_type": "code",
   "execution_count": 54,
   "metadata": {},
   "outputs": [],
   "source": [
    "tokenized_model = gensim.models.Word2Vec(giles_shaw_tokenized['tokenized'].to_list(), min_count=1)"
   ]
  },
  {
   "cell_type": "code",
   "execution_count": 58,
   "metadata": {},
   "outputs": [
    {
     "data": {
      "text/plain": [
       "6312"
      ]
     },
     "execution_count": 58,
     "metadata": {},
     "output_type": "execute_result"
    }
   ],
   "source": [
    "len(tokenized_model.wv.index_to_key)"
   ]
  },
  {
   "cell_type": "code",
   "execution_count": 59,
   "metadata": {},
   "outputs": [],
   "source": [
    "import gensim"
   ]
  },
  {
   "cell_type": "code",
   "execution_count": 60,
   "metadata": {},
   "outputs": [],
   "source": [
    "x = gensim.models.Word2Vec.load('/Users/hubert/Drive/DPhil/Projects/2022-08a-Semantic_Change/semantic-change-hansard/data/04_models/speaker_df_t2_Alan Hurst.model')"
   ]
  },
  {
   "cell_type": "code",
   "execution_count": null,
   "metadata": {},
   "outputs": [],
   "source": []
  }
 ],
 "metadata": {
  "kernelspec": {
   "display_name": "Python 3.9.13 ('semchange')",
   "language": "python",
   "name": "python3"
  },
  "language_info": {
   "codemirror_mode": {
    "name": "ipython",
    "version": 3
   },
   "file_extension": ".py",
   "mimetype": "text/x-python",
   "name": "python",
   "nbconvert_exporter": "python",
   "pygments_lexer": "ipython3",
   "version": "3.9.13"
  },
  "orig_nbformat": 4,
  "vscode": {
   "interpreter": {
    "hash": "57428bd8ea2a80bffa904db0113eadf976ae356b4a28beae6740a671f86af886"
   }
  }
 },
 "nbformat": 4,
 "nbformat_minor": 2
}
